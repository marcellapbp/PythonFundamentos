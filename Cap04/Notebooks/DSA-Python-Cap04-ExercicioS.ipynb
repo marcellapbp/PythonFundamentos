{
  "nbformat": 4,
  "nbformat_minor": 0,
  "metadata": {
    "kernelspec": {
      "display_name": "Python 3",
      "language": "python",
      "name": "python3"
    },
    "language_info": {
      "codemirror_mode": {
        "name": "ipython",
        "version": 3
      },
      "file_extension": ".py",
      "mimetype": "text/x-python",
      "name": "python",
      "nbconvert_exporter": "python",
      "pygments_lexer": "ipython3",
      "version": "3.7.6"
    },
    "colab": {
      "name": "DSA-Python-Cap04-ExercicioS.ipynb",
      "provenance": [],
      "include_colab_link": true
    }
  },
  "cells": [
    {
      "cell_type": "markdown",
      "metadata": {
        "id": "view-in-github",
        "colab_type": "text"
      },
      "source": [
        "<a href=\"https://colab.research.google.com/github/marcellapbp/PythonFundamentos/blob/master/Cap04/Notebooks/DSA-Python-Cap04-ExercicioS.ipynb\" target=\"_parent\"><img src=\"https://colab.research.google.com/assets/colab-badge.svg\" alt=\"Open In Colab\"/></a>"
      ]
    },
    {
      "cell_type": "markdown",
      "metadata": {
        "id": "i7zD-W3iaGAw",
        "colab_type": "text"
      },
      "source": [
        "# <font color='blue'>Data Science Academy - Python Fundamentos - Capítulo 4</font>\n",
        "\n",
        "## Download: http://github.com/dsacademybr"
      ]
    },
    {
      "cell_type": "code",
      "metadata": {
        "id": "OfXzaz-paGAy",
        "colab_type": "code",
        "colab": {}
      },
      "source": [
        "# Versão da Linguagem Python\n",
        "from platform import python_version\n",
        "print('Versão da Linguagem Python Usada Neste Jupyter Notebook:', python_version())"
      ],
      "execution_count": 0,
      "outputs": []
    },
    {
      "cell_type": "markdown",
      "metadata": {
        "id": "NSYVfscnaGA9",
        "colab_type": "text"
      },
      "source": [
        "## Exercícios "
      ]
    },
    {
      "cell_type": "code",
      "metadata": {
        "id": "UxCsU6vtaGBB",
        "colab_type": "code",
        "colab": {
          "base_uri": "https://localhost:8080/",
          "height": 35
        },
        "outputId": "7afa90e9-dfba-4f3e-d3ba-2001c00262db"
      },
      "source": [
        "# Exercício 1 - Crie uma lista de 3 elementos e calcule a terceira potência de cada elemento.\n",
        "lista = [1,2,3]\n",
        "list(map(lambda num: num**3, lista))"
      ],
      "execution_count": 2,
      "outputs": [
        {
          "output_type": "execute_result",
          "data": {
            "text/plain": [
              "[1, 8, 27]"
            ]
          },
          "metadata": {
            "tags": []
          },
          "execution_count": 2
        }
      ]
    },
    {
      "cell_type": "code",
      "metadata": {
        "id": "1M9g99oEaGBP",
        "colab_type": "code",
        "colab": {
          "base_uri": "https://localhost:8080/",
          "height": 271
        },
        "outputId": "a4c3ad51-967b-46ef-fab4-d1ef76d7dde5"
      },
      "source": [
        "# Exercício 2 - Reescreva o código abaixo, usando a função map(). O resultado final deve ser o mesmo!\n",
        "palavras = 'A Data Science Academy oferce os melhores cursos de análise de dados do Brasil'.split()\n",
        "resultado = [[w.upper(), w.lower(), len(w)] for w in palavras]\n",
        "for i in resultado:\n",
        "    print (i)"
      ],
      "execution_count": 3,
      "outputs": [
        {
          "output_type": "stream",
          "text": [
            "['A', 'a', 1]\n",
            "['DATA', 'data', 4]\n",
            "['SCIENCE', 'science', 7]\n",
            "['ACADEMY', 'academy', 7]\n",
            "['OFERCE', 'oferce', 6]\n",
            "['OS', 'os', 2]\n",
            "['MELHORES', 'melhores', 8]\n",
            "['CURSOS', 'cursos', 6]\n",
            "['DE', 'de', 2]\n",
            "['ANÁLISE', 'análise', 7]\n",
            "['DE', 'de', 2]\n",
            "['DADOS', 'dados', 5]\n",
            "['DO', 'do', 2]\n",
            "['BRASIL', 'brasil', 6]\n"
          ],
          "name": "stdout"
        }
      ]
    },
    {
      "cell_type": "code",
      "metadata": {
        "id": "Ln5-EjpGa1pZ",
        "colab_type": "code",
        "colab": {
          "base_uri": "https://localhost:8080/",
          "height": 271
        },
        "outputId": "47d39052-4753-4355-d61c-9d97e8ed645f"
      },
      "source": [
        "palavras = 'A Data Science Academy oferce os melhores cursos de análise de dados do Brasil'.split()\n",
        "resultado = map(lambda palavra: [palavra.upper(), palavra.lower(), len(palavra)], palavras)\n",
        "for i in resultado:\n",
        "  print(i)"
      ],
      "execution_count": 9,
      "outputs": [
        {
          "output_type": "stream",
          "text": [
            "['A', 'a', 1]\n",
            "['DATA', 'data', 4]\n",
            "['SCIENCE', 'science', 7]\n",
            "['ACADEMY', 'academy', 7]\n",
            "['OFERCE', 'oferce', 6]\n",
            "['OS', 'os', 2]\n",
            "['MELHORES', 'melhores', 8]\n",
            "['CURSOS', 'cursos', 6]\n",
            "['DE', 'de', 2]\n",
            "['ANÁLISE', 'análise', 7]\n",
            "['DE', 'de', 2]\n",
            "['DADOS', 'dados', 5]\n",
            "['DO', 'do', 2]\n",
            "['BRASIL', 'brasil', 6]\n"
          ],
          "name": "stdout"
        }
      ]
    },
    {
      "cell_type": "code",
      "metadata": {
        "id": "h25ezBqIaGBY",
        "colab_type": "code",
        "colab": {
          "base_uri": "https://localhost:8080/",
          "height": 162
        },
        "outputId": "ba85c36a-92b2-4900-960d-6e2b1cb51136"
      },
      "source": [
        "# Exercício 3 - Calcule a matriz transposta da matriz abaixo.\n",
        "# Caso não saiba o que é matriz transposta, visite este link: https://pt.wikipedia.org/wiki/Matriz_transposta\n",
        "# Matriz transposta é um conceito fundamental na construção de redes neurais artificiais, base de sistemas de IA.\n",
        "\n",
        "#Código Original\n",
        "matrix = [[1, 2],[3,4],[5,6],[7,8]]\n",
        "for i in range(0,len(matrix)):\n",
        "  print(matrix[i])\n",
        "\n",
        "#calculando a matriz transposta\n",
        "lista_tupla = list(zip(matrix[0],matrix[1],matrix[2],matrix[3]))\n",
        "lista = []\n",
        "for i in range(0,len(lista_tupla)):\n",
        "  lista.append(list(lista_tupla[i]))\n",
        "\n",
        "print('\\n')\n",
        "\n",
        "#imprimindo resultado\n",
        "for i in range(0,len(lista)):\n",
        "  print(lista[i])\n",
        "\n"
      ],
      "execution_count": 38,
      "outputs": [
        {
          "output_type": "stream",
          "text": [
            "[1, 2]\n",
            "[3, 4]\n",
            "[5, 6]\n",
            "[7, 8]\n",
            "\n",
            "\n",
            "[1, 3, 5, 7]\n",
            "[2, 4, 6, 8]\n"
          ],
          "name": "stdout"
        }
      ]
    },
    {
      "cell_type": "code",
      "metadata": {
        "id": "LrOeSIRNlBRM",
        "colab_type": "code",
        "colab": {
          "base_uri": "https://localhost:8080/",
          "height": 53
        },
        "outputId": "9a2e25bd-cd06-47a1-839d-6d4e9475ffb8"
      },
      "source": [
        "#correção\n",
        "#transpose = [[row[i] for row in matrix] for i in range(2)]\n",
        "#print(transpose)\n",
        "\n",
        "#aqui cria a primeira linha\n",
        "print([row[0] for row in matrix])\n",
        "#é possível criar um loop for pela list comprehension\n",
        "print(list( [row[i] for row in matrix] for i in range(0,len(matrix[0])) ))"
      ],
      "execution_count": 64,
      "outputs": [
        {
          "output_type": "stream",
          "text": [
            "[1, 3, 5, 7]\n",
            "[[1, 3, 5, 7], [2, 4, 6, 8]]\n"
          ],
          "name": "stdout"
        }
      ]
    },
    {
      "cell_type": "code",
      "metadata": {
        "id": "q-jpJLXgaGBe",
        "colab_type": "code",
        "colab": {
          "base_uri": "https://localhost:8080/",
          "height": 35
        },
        "outputId": "7bb9b5b2-aa9e-46dc-d6f7-cfae0c0fbf3f"
      },
      "source": [
        "# Exercício 4 - Crie duas funções, uma para elevar um número ao quadrado e outra para elevar ao cubo. \n",
        "# Aplique as duas funções aos elementos da lista abaixo. \n",
        "# Obs: as duas funções devem ser aplicadas simultaneamente.\n",
        "lista = [0, 1, 2, 3, 4]\n",
        "\n",
        "lista = [num**2 for num in [num**3 for num in lista]]\n",
        "print(lista)\n",
        "\n",
        "#correção\n",
        "lista = [0, 1, 2, 3, 4]\n",
        "\n",
        "def square(x):\n",
        "        return (x**2)\n",
        "    \n",
        "def cube(x):\n",
        "        return (x**3)\n",
        "\n",
        "funcs = [square, cube]\n",
        "\n",
        "for i in lista:\n",
        "    valor = map(lambda x: x(i), funcs)\n",
        "    print(list((valor)))"
      ],
      "execution_count": 41,
      "outputs": [
        {
          "output_type": "stream",
          "text": [
            "[0, 1, 64, 729, 4096]\n"
          ],
          "name": "stdout"
        }
      ]
    },
    {
      "cell_type": "code",
      "metadata": {
        "id": "UqdXYanOnNFW",
        "colab_type": "code",
        "colab": {
          "base_uri": "https://localhost:8080/",
          "height": 126
        },
        "outputId": "57ae04f5-d176-4bd2-b45a-686d361a91e3"
      },
      "source": [
        "#entendendo o conceito\n",
        "lista = [0,1,2,3,4]\n",
        "\n",
        "def dobra(x):\n",
        "  return x*2\n",
        "\n",
        "def triplica(x):\n",
        "  return x*3\n",
        "\n",
        "print(type(dobra))\n",
        "\n",
        "funcs = [dobra,triplica]\n",
        "\n",
        "for i in lista:\n",
        "  valor = map(lambda x: x(i), funcs)\n",
        "  print(list(valor))"
      ],
      "execution_count": 66,
      "outputs": [
        {
          "output_type": "stream",
          "text": [
            "<class 'function'>\n",
            "[0, 0]\n",
            "[2, 3]\n",
            "[4, 6]\n",
            "[6, 9]\n",
            "[8, 12]\n"
          ],
          "name": "stdout"
        }
      ]
    },
    {
      "cell_type": "code",
      "metadata": {
        "id": "TBW84op7aGBk",
        "colab_type": "code",
        "colab": {
          "base_uri": "https://localhost:8080/",
          "height": 35
        },
        "outputId": "e94883ce-1473-4812-9851-0ad2c438d5a9"
      },
      "source": [
        "# Exercício 5 - Abaixo você encontra duas listas. Faça com que cada elemento da listaA seja elevado \n",
        "# ao elemento correspondente na listaB.\n",
        "listaA = [2, 3, 4]\n",
        "listaB = [10, 11, 12]\n",
        "\n",
        "list(map(lambda a,b: a**b, listaA,listaB))\n",
        "\n",
        "#outra maneira\n",
        "listaA = [2, 3, 4]\n",
        "listaB = [10, 11, 12]\n",
        "list(map(pow, listaA, listaB))"
      ],
      "execution_count": 43,
      "outputs": [
        {
          "output_type": "execute_result",
          "data": {
            "text/plain": [
              "[1024, 177147, 16777216]"
            ]
          },
          "metadata": {
            "tags": []
          },
          "execution_count": 43
        }
      ]
    },
    {
      "cell_type": "code",
      "metadata": {
        "id": "UxZWYEUmaGBs",
        "colab_type": "code",
        "colab": {
          "base_uri": "https://localhost:8080/",
          "height": 35
        },
        "outputId": "870a88e9-5d67-40da-f557-3f5ed7a34118"
      },
      "source": [
        "# Exercício 6 - Considerando o range de valores abaixo, use a função filter() para retornar apenas os valores negativos.\n",
        "range(-5, 5)\n",
        "\n",
        "list(filter(lambda x: x<0, range(-5, 5)))"
      ],
      "execution_count": 44,
      "outputs": [
        {
          "output_type": "execute_result",
          "data": {
            "text/plain": [
              "[-5, -4, -3, -2, -1]"
            ]
          },
          "metadata": {
            "tags": []
          },
          "execution_count": 44
        }
      ]
    },
    {
      "cell_type": "code",
      "metadata": {
        "id": "S6K-KeDHaGBv",
        "colab_type": "code",
        "colab": {
          "base_uri": "https://localhost:8080/",
          "height": 35
        },
        "outputId": "9cf06b17-2f9f-4885-df39-40edc3eb521c"
      },
      "source": [
        "# Exercício 7 - Usando a função filter(), encontre os valores que são comuns às duas listas abaixo.\n",
        "a = [1,2,3,5,7,9]\n",
        "b = [2,3,5,6,7,8]\n",
        "\n",
        "c = []\n",
        "for val in a:\n",
        "  c.append(list(filter(lambda ia: ia==val, b)))\n",
        "\n",
        "print(c)\n",
        "\n",
        "#correção\n",
        "print (list(filter(lambda x: x in a, b)))"
      ],
      "execution_count": 49,
      "outputs": [
        {
          "output_type": "stream",
          "text": [
            "[[], [2], [3], [5], [7], []]\n"
          ],
          "name": "stdout"
        }
      ]
    },
    {
      "cell_type": "code",
      "metadata": {
        "id": "12DetOazaGB0",
        "colab_type": "code",
        "colab": {
          "base_uri": "https://localhost:8080/",
          "height": 53
        },
        "outputId": "9023626e-c9e0-4c10-d268-93c7e5d711b4"
      },
      "source": [
        "# Exercício 8 - Considere o código abaixo. Obtenha o mesmo resultado usando o pacote time. \n",
        "# Não conhece o pacote time? Pesquise!\n",
        "import datetime\n",
        "print (datetime.datetime.now().strftime(\"%d/%m/%Y %H:%M\"))\n",
        "\n",
        "import time\n",
        "print (time.strftime(\"%d/%m/%Y %H:%M\"))"
      ],
      "execution_count": 51,
      "outputs": [
        {
          "output_type": "stream",
          "text": [
            "20/05/2020 19:29\n",
            "20/05/2020 19:29\n"
          ],
          "name": "stdout"
        }
      ]
    },
    {
      "cell_type": "code",
      "metadata": {
        "id": "2EsVte72aGB6",
        "colab_type": "code",
        "colab": {
          "base_uri": "https://localhost:8080/",
          "height": 35
        },
        "outputId": "c05589fe-4c87-4da1-af1f-28ad85d19278"
      },
      "source": [
        "# Exercício 9 - Considere os dois dicionários abaixo. \n",
        "# Crie um terceiro dicionário com as chaves do dicionário 1 e os valores do dicionário 2.\n",
        "dict1 = {'a':1,'b':2}\n",
        "dict2 = {'c':4,'d':5}\n",
        "\n",
        "list(zip(dict1,dict2.values()))\n",
        "\n",
        "#faltou criar o terceiro dicionario\n",
        "def trocaValores(d1, d2):\n",
        "    dicTemp = {}\n",
        "    \n",
        "    for d1key, d2val in zip(d1,d2.values()):\n",
        "        dicTemp[d1key] = d2val\n",
        "    \n",
        "    return dicTemp\n",
        "\n",
        "dict3 = trocaValores(dict1, dict2)\n",
        "print(dict3)"
      ],
      "execution_count": 52,
      "outputs": [
        {
          "output_type": "execute_result",
          "data": {
            "text/plain": [
              "[('a', 4), ('b', 5)]"
            ]
          },
          "metadata": {
            "tags": []
          },
          "execution_count": 52
        }
      ]
    },
    {
      "cell_type": "code",
      "metadata": {
        "id": "yMbKHhwoaGB_",
        "colab_type": "code",
        "colab": {
          "base_uri": "https://localhost:8080/",
          "height": 126
        },
        "outputId": "8e0c821c-a972-492e-c1d8-64e862a9bf57"
      },
      "source": [
        "# Exercício 10 - Considere a lista abaixo e retorne apenas os elementos cujo índice for maior que 5.\n",
        "lista = ['a', 'b', 'c', 'd', 'e', 'f', 'g', 'h']\n",
        "\n",
        "for indice,valor in enumerate(lista):\n",
        "  if indice<=5:\n",
        "    continue\n",
        "  else:\n",
        "    print(valor)\n",
        "\n",
        "#má interpretação, corrigido"
      ],
      "execution_count": 53,
      "outputs": [
        {
          "output_type": "stream",
          "text": [
            "a\n",
            "b\n",
            "c\n",
            "d\n",
            "e\n",
            "f\n"
          ],
          "name": "stdout"
        }
      ]
    },
    {
      "cell_type": "markdown",
      "metadata": {
        "id": "-shhLXWcaGCD",
        "colab_type": "text"
      },
      "source": [
        "# Fim"
      ]
    },
    {
      "cell_type": "markdown",
      "metadata": {
        "id": "n0rvFSLxaGCF",
        "colab_type": "text"
      },
      "source": [
        "### Obrigado - Data Science Academy - <a href=\"http://facebook.com/dsacademybr\">facebook.com/dsacademybr</a>"
      ]
    }
  ]
}