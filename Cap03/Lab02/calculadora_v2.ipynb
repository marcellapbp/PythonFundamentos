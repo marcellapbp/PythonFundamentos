{
  "nbformat": 4,
  "nbformat_minor": 0,
  "metadata": {
    "colab": {
      "name": "calculadora_v2.ipynb",
      "provenance": [],
      "authorship_tag": "ABX9TyO9f3/ddR19D4NMbf1+cwFh",
      "include_colab_link": true
    },
    "kernelspec": {
      "name": "python3",
      "display_name": "Python 3"
    }
  },
  "cells": [
    {
      "cell_type": "markdown",
      "metadata": {
        "id": "view-in-github",
        "colab_type": "text"
      },
      "source": [
        "<a href=\"https://colab.research.google.com/github/marcellapbp/PythonFundamentos/blob/master/Cap03/Lab02/calculadora_v2.ipynb\" target=\"_parent\"><img src=\"https://colab.research.google.com/assets/colab-badge.svg\" alt=\"Open In Colab\"/></a>"
      ]
    },
    {
      "cell_type": "code",
      "metadata": {
        "id": "yJIVPXiT1vyS",
        "colab_type": "code",
        "colab": {}
      },
      "source": [
        "# Calculadora em Python\n",
        "\n",
        "print(\"\\n******************* Python Calculator *******************\")\n",
        "\n",
        "def add(x, y):\n",
        "\treturn x + y\n",
        "\n",
        "def subtract(x, y):\n",
        "\treturn x - y\n",
        "\n",
        "def multiply(x, y):\n",
        "\treturn x * y\n",
        "\n",
        "def divide(x, y):\n",
        "\treturn x / y\n",
        "\n",
        "print(\"\\nSelecione o número da operação desejada: \\n\")\n",
        "print(\"1 - Soma\")\n",
        "print(\"2 - Subtração\")\n",
        "print(\"3 - Multiplicação\")\n",
        "print(\"4 - Divisão\")\n",
        "\n",
        "escolha = input(\"\\nDigite sua opção (1/2/3/4): \")\n",
        "\n",
        "num1 = int(input(\"\\nDigite o primeiro número: \"))\n",
        "num2 = int(input(\"\\nDigite o segundo número: \"))\n",
        "\n",
        "if escolha == '1':\n",
        "\tprint(\"\\n\")\n",
        "\tprint(num1, \"+\", num2, \"=\", add(num1, num2))\n",
        "\tprint(\"\\n\")\n",
        "\n",
        "elif escolha == '2':\n",
        "\tprint(\"\\n\")\n",
        "\tprint(num1, \"-\", num2, \"=\", subtract(num1, num2))\n",
        "\tprint(\"\\n\")\n",
        "\n",
        "elif escolha == '3':\n",
        "\tprint(\"\\n\")\n",
        "\tprint(num1, \"*\", num2, \"=\", multiply(num1, num2))\n",
        "\tprint(\"\\n\")\n",
        "\n",
        "elif escolha == '4':\n",
        "\tprint(\"\\n\")\n",
        "\tprint(num1, \"/\", num2, \"=\", divide(num1, num2))\n",
        "\tprint(\"\\n\")\n",
        "\n",
        "else:\n",
        "\tprint(\"\\nOpção Inválida!\")"
      ],
      "execution_count": 0,
      "outputs": []
    }
  ]
}